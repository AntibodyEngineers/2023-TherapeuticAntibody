{
  "cells": [
    {
      "cell_type": "markdown",
      "source": [
        "This notebook peforms a look up on a set of therapeutic antibodies to see if there exist antibody and antigen complex structures in the NCBI Structure database. It is necessary to obtain structures for both the antibody and the associated antigen to visualize binding."
      ],
      "metadata": {
        "id": "hm-j2wkADhR1"
      }
    },
    {
      "cell_type": "markdown",
      "metadata": {
        "id": "EQMmu_88jAc1"
      },
      "source": [
        "#Prepare Environment"
      ]
    },
    {
      "cell_type": "code",
      "execution_count": 1,
      "metadata": {
        "id": "J8c3_KXnja7A"
      },
      "outputs": [],
      "source": [
        "# Import libraries\n",
        "import os\n",
        "import re\n",
        "import gdown\n",
        "import numpy as np\n",
        "import pandas as pd\n",
        "import requests\n",
        "from bs4 import BeautifulSoup\n",
        "from google.colab import files"
      ]
    },
    {
      "cell_type": "markdown",
      "source": [
        "# Download the latest TheraSAbDab Database"
      ],
      "metadata": {
        "id": "Ob6bJNmjVnSP"
      }
    },
    {
      "cell_type": "code",
      "source": [
        "# download the latest TheraSAbDab database\n",
        "url_TheraSAbDab = 'https://opig.stats.ox.ac.uk/webapps/sabdab-sabpred/static/downloads/TheraSAbDab_SeqStruc_OnlineDownload.xlsx'\n",
        "r = requests.get(url_TheraSAbDab)\n",
        "\n",
        "fp_TheraSAbDab = '{}'.format(url_TheraSAbDab.split('/')[-1])\n",
        "with open(fp_TheraSAbDab, 'wb') as f:\n",
        "    f.write(r.content)"
      ],
      "metadata": {
        "id": "TH4WUTcHhaQj"
      },
      "execution_count": 2,
      "outputs": []
    },
    {
      "cell_type": "code",
      "source": [
        "# Filter out Therapeutics without any structure\n",
        "df = pd.read_excel(fp_TheraSAbDab)\n",
        "\n",
        "cols = ['100% SI Structure', '99% SI Structure','95-98% SI Structure']\n",
        "df = df[(df[cols] == ['None', 'None', 'None']).sum(axis=1) < 3]\n",
        "df = df[(df[cols] == ['None;None', 'None;None', 'None;None']).sum(axis=1) < 3]"
      ],
      "metadata": {
        "id": "XDQb7tP5U715"
      },
      "execution_count": 3,
      "outputs": []
    },
    {
      "cell_type": "markdown",
      "source": [
        "# Identify structures with antigen\n"
      ],
      "metadata": {
        "id": "6RTclfuZ2MlD"
      }
    },
    {
      "cell_type": "code",
      "source": [
        "# For each structure, search the NCBI structure database\n",
        "# and extract the title\n",
        "\n",
        "# This cell takes about 5~10 minutes to run\n",
        "def extract_pdb_title_ncbi(str_pdbid)->str:\n",
        "    \"\"\"\n",
        "    \"\"\"\n",
        "    url_ncbi_structure = 'https://www.ncbi.nlm.nih.gov/Structure/pdb'\n",
        "    url = '{}/{}'.format(url_ncbi_structure, str_pdbid)\n",
        "    r = requests.get(url)\n",
        "    if r.status_code == 200:\n",
        "        soup = BeautifulSoup(r.text, 'html.parser')\n",
        "        return soup.title.text\n",
        "    return 'N/A'\n",
        "\n",
        "\n",
        "cols = ['100% SI Structure', '99% SI Structure', '95-98% SI Structure']\n",
        "for col in cols:\n",
        "    # convert none values to np.NaN for the structure columns\n",
        "    df.loc[:, col] = df[col].apply(lambda x: np.NaN if re.search('None', x) else x).copy()\n",
        "    df.loc[~df[col].isna(), col] = df[col].dropna().str.split('/').copy()\n",
        "    df.loc[~df[col].isna(), col] = df[col].dropna().apply(lambda x: [item.split(':')[0] for item in x]).copy()\n",
        "\n",
        "    # extract ncbi structure page title for each pdb id\n",
        "    idx_notnan = df.loc[~df[col].isna()].index\n",
        "    df.loc[:, 'title_{}'.format(col)] = np.NaN\n",
        "    df.loc[idx_notnan, 'title_{}'.format(col)] = df[col].dropna().apply(lambda x: [extract_pdb_title_ncbi(pdbid) for pdbid in x ])"
      ],
      "metadata": {
        "id": "PhLzPd4OtrHO"
      },
      "execution_count": 4,
      "outputs": []
    },
    {
      "cell_type": "code",
      "source": [
        "# Identify titles containing the term 'complex.'\n",
        "# Titles with 'complex, complexed' are likely\n",
        "# to contain structure for both the Abs and the antigen.\n",
        "\n",
        "def id_pdbid_wcomplex(str_title):\n",
        "    str_title = ''.join(str_title.lower())\n",
        "    if re.search('complex', str_title):\n",
        "        pdbid = str_title.split(':')[0]\n",
        "        return pdbid\n",
        "\n",
        "cols = ['100% SI Structure', '99% SI Structure', '95-98% SI Structure']\n",
        "cols = ['title_{}'.format(col) for col in cols]\n",
        "for col in cols:\n",
        "    idx_notnan = df.loc[~df[col].isna()].index\n",
        "    df.loc[idx_notnan, 'ret_{}'.format(col.split('_')[1])] = \\\n",
        "       df[col].dropna().apply(lambda x: [id_pdbid_wcomplex(title) for title in x]).copy()"
      ],
      "metadata": {
        "id": "E4Fxl9a14WAH"
      },
      "execution_count": 5,
      "outputs": []
    },
    {
      "cell_type": "code",
      "source": [
        "# conbine all identified pdbid into a string, seperate each pdbid by colon\n",
        "def combine_to_list(x, cols):\n",
        "  ls = []\n",
        "  for col in cols:\n",
        "      if type(x[col]) == list:\n",
        "          ls.extend(x[col])\n",
        "  ls = [pdbid for pdbid in ls if pdbid != None]\n",
        "  ls = [pdbid for pdbid in ls if pdbid != '']\n",
        "  return ';'.join(ls)\n",
        "\n",
        "cols = ['100% SI Structure', '99% SI Structure', '95-98% SI Structure']\n",
        "cols = ['ret_{}'.format(col) for col in cols]\n",
        "\n",
        "df['structure_w_complex'] = df[cols].apply(lambda x: combine_to_list(x, cols=cols), axis=1)\n",
        "df[['Therapeutic'] + cols + ['structure_w_complex']]"
      ],
      "metadata": {
        "colab": {
          "base_uri": "https://localhost:8080/",
          "height": 467
        },
        "id": "5mS3vuoTBrVh",
        "outputId": "bdc21da7-ed3e-4926-dcdd-b03e0c0f904d"
      },
      "execution_count": 6,
      "outputs": [
        {
          "output_type": "execute_result",
          "data": {
            "text/plain": [
              "       Therapeutic                              ret_100% SI Structure  \\\n",
              "1        Abciximab                                             [6v4p]   \n",
              "2       Abelacimab                                                NaN   \n",
              "3       Abituzumab                                             [6r8x]   \n",
              "8        Acimtamig                                                NaN   \n",
              "11      Adalimumab                                       [None, None]   \n",
              "..             ...                                                ...   \n",
              "858      Vudalimab                                                NaN   \n",
              "869    Zanidatamab                                                NaN   \n",
              "874  Zenocutuzumab                                       [5o4o, 5o7p]   \n",
              "881    Zinlirvimab  [6orn, 6udk, 6udj, None, 6ccb, 6okp, 7ucf, 7uc...   \n",
              "884    Zuberitamab                                                NaN   \n",
              "\n",
              "    ret_99% SI Structure                            ret_95-98% SI Structure  \\\n",
              "1                    NaN                                                NaN   \n",
              "2                    NaN                                             [6r8x]   \n",
              "3                    NaN                                                NaN   \n",
              "8                    NaN                                                NaN   \n",
              "11                [3wd5]                                                NaN   \n",
              "..                   ...                                                ...   \n",
              "858                  NaN                                                NaN   \n",
              "869                  NaN  [1s78, None, None, None, None, None, None, Non...   \n",
              "874                  NaN                                                NaN   \n",
              "881         [5t3x, 5t3z]                                             [None]   \n",
              "884                  NaN                                             [3bky]   \n",
              "\n",
              "                                   structure_w_complex  \n",
              "1                                                 6v4p  \n",
              "2                                                 6r8x  \n",
              "3                                                 6r8x  \n",
              "8                                                       \n",
              "11                                                3wd5  \n",
              "..                                                 ...  \n",
              "858                                                     \n",
              "869                                     1s78;3be1;3bdy  \n",
              "874                                          5o4o;5o7p  \n",
              "881  6orn;6udk;6udj;6ccb;6okp;7ucf;7ucg;7ugn;7ugo;7...  \n",
              "884                                               3bky  \n",
              "\n",
              "[255 rows x 5 columns]"
            ],
            "text/html": [
              "\n",
              "\n",
              "  <div id=\"df-2327b962-56bc-4307-88e7-1dfe671e7e79\">\n",
              "    <div class=\"colab-df-container\">\n",
              "      <div>\n",
              "<style scoped>\n",
              "    .dataframe tbody tr th:only-of-type {\n",
              "        vertical-align: middle;\n",
              "    }\n",
              "\n",
              "    .dataframe tbody tr th {\n",
              "        vertical-align: top;\n",
              "    }\n",
              "\n",
              "    .dataframe thead th {\n",
              "        text-align: right;\n",
              "    }\n",
              "</style>\n",
              "<table border=\"1\" class=\"dataframe\">\n",
              "  <thead>\n",
              "    <tr style=\"text-align: right;\">\n",
              "      <th></th>\n",
              "      <th>Therapeutic</th>\n",
              "      <th>ret_100% SI Structure</th>\n",
              "      <th>ret_99% SI Structure</th>\n",
              "      <th>ret_95-98% SI Structure</th>\n",
              "      <th>structure_w_complex</th>\n",
              "    </tr>\n",
              "  </thead>\n",
              "  <tbody>\n",
              "    <tr>\n",
              "      <th>1</th>\n",
              "      <td>Abciximab</td>\n",
              "      <td>[6v4p]</td>\n",
              "      <td>NaN</td>\n",
              "      <td>NaN</td>\n",
              "      <td>6v4p</td>\n",
              "    </tr>\n",
              "    <tr>\n",
              "      <th>2</th>\n",
              "      <td>Abelacimab</td>\n",
              "      <td>NaN</td>\n",
              "      <td>NaN</td>\n",
              "      <td>[6r8x]</td>\n",
              "      <td>6r8x</td>\n",
              "    </tr>\n",
              "    <tr>\n",
              "      <th>3</th>\n",
              "      <td>Abituzumab</td>\n",
              "      <td>[6r8x]</td>\n",
              "      <td>NaN</td>\n",
              "      <td>NaN</td>\n",
              "      <td>6r8x</td>\n",
              "    </tr>\n",
              "    <tr>\n",
              "      <th>8</th>\n",
              "      <td>Acimtamig</td>\n",
              "      <td>NaN</td>\n",
              "      <td>NaN</td>\n",
              "      <td>NaN</td>\n",
              "      <td></td>\n",
              "    </tr>\n",
              "    <tr>\n",
              "      <th>11</th>\n",
              "      <td>Adalimumab</td>\n",
              "      <td>[None, None]</td>\n",
              "      <td>[3wd5]</td>\n",
              "      <td>NaN</td>\n",
              "      <td>3wd5</td>\n",
              "    </tr>\n",
              "    <tr>\n",
              "      <th>...</th>\n",
              "      <td>...</td>\n",
              "      <td>...</td>\n",
              "      <td>...</td>\n",
              "      <td>...</td>\n",
              "      <td>...</td>\n",
              "    </tr>\n",
              "    <tr>\n",
              "      <th>858</th>\n",
              "      <td>Vudalimab</td>\n",
              "      <td>NaN</td>\n",
              "      <td>NaN</td>\n",
              "      <td>NaN</td>\n",
              "      <td></td>\n",
              "    </tr>\n",
              "    <tr>\n",
              "      <th>869</th>\n",
              "      <td>Zanidatamab</td>\n",
              "      <td>NaN</td>\n",
              "      <td>NaN</td>\n",
              "      <td>[1s78, None, None, None, None, None, None, Non...</td>\n",
              "      <td>1s78;3be1;3bdy</td>\n",
              "    </tr>\n",
              "    <tr>\n",
              "      <th>874</th>\n",
              "      <td>Zenocutuzumab</td>\n",
              "      <td>[5o4o, 5o7p]</td>\n",
              "      <td>NaN</td>\n",
              "      <td>NaN</td>\n",
              "      <td>5o4o;5o7p</td>\n",
              "    </tr>\n",
              "    <tr>\n",
              "      <th>881</th>\n",
              "      <td>Zinlirvimab</td>\n",
              "      <td>[6orn, 6udk, 6udj, None, 6ccb, 6okp, 7ucf, 7uc...</td>\n",
              "      <td>[5t3x, 5t3z]</td>\n",
              "      <td>[None]</td>\n",
              "      <td>6orn;6udk;6udj;6ccb;6okp;7ucf;7ucg;7ugn;7ugo;7...</td>\n",
              "    </tr>\n",
              "    <tr>\n",
              "      <th>884</th>\n",
              "      <td>Zuberitamab</td>\n",
              "      <td>NaN</td>\n",
              "      <td>NaN</td>\n",
              "      <td>[3bky]</td>\n",
              "      <td>3bky</td>\n",
              "    </tr>\n",
              "  </tbody>\n",
              "</table>\n",
              "<p>255 rows × 5 columns</p>\n",
              "</div>\n",
              "      <button class=\"colab-df-convert\" onclick=\"convertToInteractive('df-2327b962-56bc-4307-88e7-1dfe671e7e79')\"\n",
              "              title=\"Convert this dataframe to an interactive table.\"\n",
              "              style=\"display:none;\">\n",
              "\n",
              "  <svg xmlns=\"http://www.w3.org/2000/svg\" height=\"24px\"viewBox=\"0 0 24 24\"\n",
              "       width=\"24px\">\n",
              "    <path d=\"M0 0h24v24H0V0z\" fill=\"none\"/>\n",
              "    <path d=\"M18.56 5.44l.94 2.06.94-2.06 2.06-.94-2.06-.94-.94-2.06-.94 2.06-2.06.94zm-11 1L8.5 8.5l.94-2.06 2.06-.94-2.06-.94L8.5 2.5l-.94 2.06-2.06.94zm10 10l.94 2.06.94-2.06 2.06-.94-2.06-.94-.94-2.06-.94 2.06-2.06.94z\"/><path d=\"M17.41 7.96l-1.37-1.37c-.4-.4-.92-.59-1.43-.59-.52 0-1.04.2-1.43.59L10.3 9.45l-7.72 7.72c-.78.78-.78 2.05 0 2.83L4 21.41c.39.39.9.59 1.41.59.51 0 1.02-.2 1.41-.59l7.78-7.78 2.81-2.81c.8-.78.8-2.07 0-2.86zM5.41 20L4 18.59l7.72-7.72 1.47 1.35L5.41 20z\"/>\n",
              "  </svg>\n",
              "      </button>\n",
              "\n",
              "\n",
              "\n",
              "    <div id=\"df-a8d11fe6-ed0b-4d04-a12c-d4f7e14b73e8\">\n",
              "      <button class=\"colab-df-quickchart\" onclick=\"quickchart('df-a8d11fe6-ed0b-4d04-a12c-d4f7e14b73e8')\"\n",
              "              title=\"Suggest charts.\"\n",
              "              style=\"display:none;\">\n",
              "\n",
              "<svg xmlns=\"http://www.w3.org/2000/svg\" height=\"24px\"viewBox=\"0 0 24 24\"\n",
              "     width=\"24px\">\n",
              "    <g>\n",
              "        <path d=\"M19 3H5c-1.1 0-2 .9-2 2v14c0 1.1.9 2 2 2h14c1.1 0 2-.9 2-2V5c0-1.1-.9-2-2-2zM9 17H7v-7h2v7zm4 0h-2V7h2v10zm4 0h-2v-4h2v4z\"/>\n",
              "    </g>\n",
              "</svg>\n",
              "      </button>\n",
              "    </div>\n",
              "\n",
              "<style>\n",
              "  .colab-df-quickchart {\n",
              "    background-color: #E8F0FE;\n",
              "    border: none;\n",
              "    border-radius: 50%;\n",
              "    cursor: pointer;\n",
              "    display: none;\n",
              "    fill: #1967D2;\n",
              "    height: 32px;\n",
              "    padding: 0 0 0 0;\n",
              "    width: 32px;\n",
              "  }\n",
              "\n",
              "  .colab-df-quickchart:hover {\n",
              "    background-color: #E2EBFA;\n",
              "    box-shadow: 0px 1px 2px rgba(60, 64, 67, 0.3), 0px 1px 3px 1px rgba(60, 64, 67, 0.15);\n",
              "    fill: #174EA6;\n",
              "  }\n",
              "\n",
              "  [theme=dark] .colab-df-quickchart {\n",
              "    background-color: #3B4455;\n",
              "    fill: #D2E3FC;\n",
              "  }\n",
              "\n",
              "  [theme=dark] .colab-df-quickchart:hover {\n",
              "    background-color: #434B5C;\n",
              "    box-shadow: 0px 1px 3px 1px rgba(0, 0, 0, 0.15);\n",
              "    filter: drop-shadow(0px 1px 2px rgba(0, 0, 0, 0.3));\n",
              "    fill: #FFFFFF;\n",
              "  }\n",
              "</style>\n",
              "\n",
              "    <script>\n",
              "      async function quickchart(key) {\n",
              "        const containerElement = document.querySelector('#' + key);\n",
              "        const charts = await google.colab.kernel.invokeFunction(\n",
              "            'suggestCharts', [key], {});\n",
              "      }\n",
              "    </script>\n",
              "\n",
              "      <script>\n",
              "\n",
              "function displayQuickchartButton(domScope) {\n",
              "  let quickchartButtonEl =\n",
              "    domScope.querySelector('#df-a8d11fe6-ed0b-4d04-a12c-d4f7e14b73e8 button.colab-df-quickchart');\n",
              "  quickchartButtonEl.style.display =\n",
              "    google.colab.kernel.accessAllowed ? 'block' : 'none';\n",
              "}\n",
              "\n",
              "        displayQuickchartButton(document);\n",
              "      </script>\n",
              "      <style>\n",
              "    .colab-df-container {\n",
              "      display:flex;\n",
              "      flex-wrap:wrap;\n",
              "      gap: 12px;\n",
              "    }\n",
              "\n",
              "    .colab-df-convert {\n",
              "      background-color: #E8F0FE;\n",
              "      border: none;\n",
              "      border-radius: 50%;\n",
              "      cursor: pointer;\n",
              "      display: none;\n",
              "      fill: #1967D2;\n",
              "      height: 32px;\n",
              "      padding: 0 0 0 0;\n",
              "      width: 32px;\n",
              "    }\n",
              "\n",
              "    .colab-df-convert:hover {\n",
              "      background-color: #E2EBFA;\n",
              "      box-shadow: 0px 1px 2px rgba(60, 64, 67, 0.3), 0px 1px 3px 1px rgba(60, 64, 67, 0.15);\n",
              "      fill: #174EA6;\n",
              "    }\n",
              "\n",
              "    [theme=dark] .colab-df-convert {\n",
              "      background-color: #3B4455;\n",
              "      fill: #D2E3FC;\n",
              "    }\n",
              "\n",
              "    [theme=dark] .colab-df-convert:hover {\n",
              "      background-color: #434B5C;\n",
              "      box-shadow: 0px 1px 3px 1px rgba(0, 0, 0, 0.15);\n",
              "      filter: drop-shadow(0px 1px 2px rgba(0, 0, 0, 0.3));\n",
              "      fill: #FFFFFF;\n",
              "    }\n",
              "  </style>\n",
              "\n",
              "      <script>\n",
              "        const buttonEl =\n",
              "          document.querySelector('#df-2327b962-56bc-4307-88e7-1dfe671e7e79 button.colab-df-convert');\n",
              "        buttonEl.style.display =\n",
              "          google.colab.kernel.accessAllowed ? 'block' : 'none';\n",
              "\n",
              "        async function convertToInteractive(key) {\n",
              "          const element = document.querySelector('#df-2327b962-56bc-4307-88e7-1dfe671e7e79');\n",
              "          const dataTable =\n",
              "            await google.colab.kernel.invokeFunction('convertToInteractive',\n",
              "                                                     [key], {});\n",
              "          if (!dataTable) return;\n",
              "\n",
              "          const docLinkHtml = 'Like what you see? Visit the ' +\n",
              "            '<a target=\"_blank\" href=https://colab.research.google.com/notebooks/data_table.ipynb>data table notebook</a>'\n",
              "            + ' to learn more about interactive tables.';\n",
              "          element.innerHTML = '';\n",
              "          dataTable['output_type'] = 'display_data';\n",
              "          await google.colab.output.renderOutput(dataTable, element);\n",
              "          const docLink = document.createElement('div');\n",
              "          docLink.innerHTML = docLinkHtml;\n",
              "          element.appendChild(docLink);\n",
              "        }\n",
              "      </script>\n",
              "    </div>\n",
              "  </div>\n"
            ]
          },
          "metadata": {},
          "execution_count": 6
        }
      ]
    },
    {
      "cell_type": "markdown",
      "source": [
        "# Export selected columns to csv"
      ],
      "metadata": {
        "id": "LZTGlapTBBdh"
      }
    },
    {
      "cell_type": "code",
      "source": [
        "# prepare df for export\n",
        "cols = ['Therapeutic', 'Format', \"Highest_Clin_Trial (Jan '23)\", 'Est. Status', 'Target']\n",
        "df_export = df[cols].copy()\n",
        "df_export['PDB ID for structure with an antigen'] = df['structure_w_complex']\n",
        "df_export['Is there a structure with an antigen?'] = \\\n",
        "    df_export['PDB ID for structure with an antigen'].apply(lambda x: 'yes' if x != '' else 'no').copy()\n",
        "\n",
        "cols = ['Therapeutic', 'Format', \"Highest_Clin_Trial (Jan '23)\", 'Est. Status', 'Target',\n",
        "        'Is there a structure with an antigen?','PDB ID for structure with an antigen']\n",
        "\n",
        "df_export = df_export[cols].copy()"
      ],
      "metadata": {
        "id": "hZvPcW-_R4ZE"
      },
      "execution_count": 7,
      "outputs": []
    },
    {
      "cell_type": "code",
      "source": [
        "# export to csv\n",
        "fp_updated = 'Therapeutics_w_AntigenStructure.csv'\n",
        "df_export.to_csv(fp_updated)"
      ],
      "metadata": {
        "id": "x1No9ettTCQN"
      },
      "execution_count": 8,
      "outputs": []
    },
    {
      "cell_type": "markdown",
      "source": [
        "# Download Therapeutics with antigen structure(s) in .csv"
      ],
      "metadata": {
        "id": "gShhAO_2Tr2g"
      }
    },
    {
      "cell_type": "code",
      "source": [
        "files.download(fp_updated)"
      ],
      "metadata": {
        "colab": {
          "base_uri": "https://localhost:8080/",
          "height": 17
        },
        "id": "yUhOmmXzT5Zq",
        "outputId": "ed44ec31-a525-4d82-c80f-de3affc08bd7"
      },
      "execution_count": 10,
      "outputs": [
        {
          "output_type": "display_data",
          "data": {
            "text/plain": [
              "<IPython.core.display.Javascript object>"
            ],
            "application/javascript": [
              "\n",
              "    async function download(id, filename, size) {\n",
              "      if (!google.colab.kernel.accessAllowed) {\n",
              "        return;\n",
              "      }\n",
              "      const div = document.createElement('div');\n",
              "      const label = document.createElement('label');\n",
              "      label.textContent = `Downloading \"${filename}\": `;\n",
              "      div.appendChild(label);\n",
              "      const progress = document.createElement('progress');\n",
              "      progress.max = size;\n",
              "      div.appendChild(progress);\n",
              "      document.body.appendChild(div);\n",
              "\n",
              "      const buffers = [];\n",
              "      let downloaded = 0;\n",
              "\n",
              "      const channel = await google.colab.kernel.comms.open(id);\n",
              "      // Send a message to notify the kernel that we're ready.\n",
              "      channel.send({})\n",
              "\n",
              "      for await (const message of channel.messages) {\n",
              "        // Send a message to notify the kernel that we're ready.\n",
              "        channel.send({})\n",
              "        if (message.buffers) {\n",
              "          for (const buffer of message.buffers) {\n",
              "            buffers.push(buffer);\n",
              "            downloaded += buffer.byteLength;\n",
              "            progress.value = downloaded;\n",
              "          }\n",
              "        }\n",
              "      }\n",
              "      const blob = new Blob(buffers, {type: 'application/binary'});\n",
              "      const a = document.createElement('a');\n",
              "      a.href = window.URL.createObjectURL(blob);\n",
              "      a.download = filename;\n",
              "      div.appendChild(a);\n",
              "      a.click();\n",
              "      div.remove();\n",
              "    }\n",
              "  "
            ]
          },
          "metadata": {}
        },
        {
          "output_type": "display_data",
          "data": {
            "text/plain": [
              "<IPython.core.display.Javascript object>"
            ],
            "application/javascript": [
              "download(\"download_70a65b07-d9bd-4c3f-9707-3040d3d180d8\", \"Therapeutics_w_AntigenStructure.csv\", 16955)"
            ]
          },
          "metadata": {}
        }
      ]
    }
  ],
  "metadata": {
    "colab": {
      "provenance": [],
      "toc_visible": true
    },
    "kernelspec": {
      "display_name": "Python 3",
      "name": "python3"
    },
    "language_info": {
      "name": "python"
    }
  },
  "nbformat": 4,
  "nbformat_minor": 0
}